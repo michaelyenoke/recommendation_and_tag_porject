{
 "cells": [
  {
   "cell_type": "markdown",
   "metadata": {},
   "source": [
    "# Application"
   ]
  },
  {
   "cell_type": "code",
   "execution_count": null,
   "metadata": {},
   "outputs": [],
   "source": [
    " new_prod_recommendation(---------)"
   ]
  },
  {
   "cell_type": "code",
   "execution_count": null,
   "metadata": {},
   "outputs": [],
   "source": [
    "# random loyalty card number _ 隨機選取有用的會員卡號\n",
    "ran_member = random.choice(member_declare_sport_result_df['loyalty_card_num'])\n",
    "print(\"The random loyalty card number is :\" +\" \"+ran_member)\n",
    "new_prod_recommendation(ran_member)"
   ]
  },
  {
   "cell_type": "markdown",
   "metadata": {},
   "source": [
    "# Process"
   ]
  },
  {
   "cell_type": "code",
   "execution_count": 1,
   "metadata": {},
   "outputs": [],
   "source": [
    "import psycopg2\n",
    "import sys\n",
    "import os\n",
    "import time"
   ]
  },
  {
   "cell_type": "code",
   "execution_count": 3,
   "metadata": {},
   "outputs": [],
   "source": [
    "import pandas as pd \n",
    "from decimal import *\n",
    "import datetime\n",
    "import random"
   ]
  },
  {
   "cell_type": "code",
   "execution_count": 4,
   "metadata": {},
   "outputs": [],
   "source": [
    "def execute_query(query):\n",
    "    try:\n",
    "        conn = psycopg2.connect(dbname=DatabaseName, host=ClusterEndpoint, port=Port, user=UserName, password=Password)\n",
    "        cur = conn.cursor()\n",
    "        start = time.time()\n",
    "        cur.execute(query)\n",
    "        end = time.time()\n",
    "        print('Time Taken in Seconds : '+str(round(end - start)))\n",
    "        records = cur.fetchall()\n",
    "        cur.close()\n",
    "        conn.commit()\n",
    "    except Exception as e:\n",
    "       s = \"UNEXPECTED ERROR: \" + str(sys.exc_info())+\"\\n\"+str(e)+\"\\nError on line {}\".format(sys.exc_info()[-1].tb_lineno)\n",
    "       print(s)\n",
    "    finally:  \n",
    "       conn.close()\n",
    "    return records"
   ]
  },
  {
   "cell_type": "markdown",
   "metadata": {},
   "source": [
    "# Declare Sport"
   ]
  },
  {
   "cell_type": "code",
   "execution_count": null,
   "metadata": {},
   "outputs": [],
   "source": [
    "member_declare_sport = '''\n",
    "SELECT t1.loyalty_card_num,\n",
    "       t1.sport_id,\n",
    "       t1.sport_name_zh,\n",
    "       t1.sport_name_en,\n",
    "       t2.classificaiton_code\n",
    "FROM dtm_tw.tw_declare_sport AS t1\n",
    "left join dtm_tw.taiwan_cdp_sport_tag AS t2\n",
    "on t1.sport_id = t2.sport_id\n",
    "where t1.sport_id != 'None'\n",
    "group by 1,2,3,4,5\n",
    ";\n",
    " '''\n",
    "\n",
    "member_declare_sport_result = execute_query(member_declare_sport)\n",
    "member_declare_sport_result_df = pd.DataFrame(member_declare_sport_result)\n",
    "member_declare_sport_result_df.columns=['loyalty_card_num','sport_id','sport_name_zh','sport_name_en','classificaiton_code']"
   ]
  },
  {
   "cell_type": "code",
   "execution_count": 7,
   "metadata": {},
   "outputs": [],
   "source": [
    "def member_declare_random_sport(member_id):\n",
    "    spid = (member_declare_sport_result_df[member_declare_sport_result_df['loyalty_card_num'] == str(member_id)])\n",
    "    one_random_sport = list(set(spid['sport_id']))\n",
    "    one_random_sport_result = random.choice(one_random_sport)\n",
    "    return one_random_sport_result"
   ]
  },
  {
   "cell_type": "markdown",
   "metadata": {},
   "source": [
    "# Use the created  table for sport_id & model_code_r3 & p_sell_start_week"
   ]
  },
  {
   "cell_type": "code",
   "execution_count": null,
   "metadata": {},
   "outputs": [],
   "source": [
    "sport_id_model_r3 = '''\n",
    "SELECT distinct\n",
    "    model_code_r3,  \n",
    "    brand_id, \n",
    "    brand_name,\n",
    "    p_sell_start_week, \n",
    "    web_label,      \n",
    "    sports_id \n",
    "FROM dtm_tw.taiwan_cdp_sport_id_model_r3\n",
    "WHERE p_sell_start_week > 202100\n",
    " ;\n",
    " ''' \n",
    "\n",
    "sport_id_model_r3_result = execute_query(sport_id_model_r3)\n",
    "sport_id_model_r3_result_df = pd.DataFrame(sport_id_model_r3_result)\n",
    "sport_id_model_r3_result_df.columns=['model_code_r3','brand_id','brand_nam','p_sell_start_week','web_label','sports_id']"
   ]
  },
  {
   "cell_type": "markdown",
   "metadata": {},
   "source": [
    "# Capture the Week Num"
   ]
  },
  {
   "cell_type": "code",
   "execution_count": 10,
   "metadata": {},
   "outputs": [],
   "source": [
    "from datetime import datetime\n",
    "import calendar"
   ]
  },
  {
   "cell_type": "code",
   "execution_count": 11,
   "metadata": {},
   "outputs": [],
   "source": [
    "def week_num():\n",
    "    cal = datetime.today().isocalendar() \n",
    "    strcal = str(cal[0])+str(cal[1]) \n",
    "    return strcal"
   ]
  },
  {
   "cell_type": "markdown",
   "metadata": {},
   "source": [
    "# Select Newest Product by sport_id & week_num_this_week"
   ]
  },
  {
   "cell_type": "code",
   "execution_count": 14,
   "metadata": {},
   "outputs": [],
   "source": [
    "def recom_prod_new_2(member_id):\n",
    "    one_random_sport_result = member_declare_random_sport(member_id)\n",
    "    strcal = week_num()\n",
    "    recom_prod_new = sport_id_model_r3_result_df.loc[(sport_id_model_r3_result_df['sports_id'] == one_random_sport_result) & (sport_id_model_r3_result_df['p_sell_start_week'] <= strcal)]\n",
    "    if recom_prod_new.empty:\n",
    "        return recom_prod_new\n",
    "    else:\n",
    "        uu = max(recom_prod_new['p_sell_start_week'])\n",
    "        recom_prod_new_2 = sport_id_model_r3_result_df.loc[(sport_id_model_r3_result_df['sports_id'] == one_random_sport_result) & (sport_id_model_r3_result_df['p_sell_start_week'] == uu)]\n",
    "        return recom_prod_new_2\n"
   ]
  },
  {
   "cell_type": "markdown",
   "metadata": {},
   "source": [
    " # Random Recommend "
   ]
  },
  {
   "cell_type": "code",
   "execution_count": 15,
   "metadata": {},
   "outputs": [],
   "source": [
    "def new_prod_recommendation(member_id):\n",
    "    recom_prod_new_3 = recom_prod_new_2(member_id)\n",
    "    if recom_prod_new_3.empty:\n",
    "        print('No New Products')\n",
    "    else:\n",
    "        recom_prod_new_3 = recom_prod_new_2(member_id)\n",
    "        if len(recom_prod_new_3) != 1 :\n",
    "            a = random.randint(0,len(recom_prod_new_3))\n",
    "            recom_prod_new_3.index = range(len(recom_prod_new_3))\n",
    "            yy = recom_prod_new_3.iloc[a:a+3]\n",
    "            return yy\n",
    "        elif len(recom_prod_new_3) == 1:\n",
    "            a = random.randint(0,len(recom_prod_new_3))\n",
    "            recom_prod_new_3.index = range(len(recom_prod_new_3))\n",
    "            kk = recom_prod_new_3.iloc[0:1]\n",
    "            return kk\n",
    "        elif len(recom_prod_new_3) == 0:\n",
    "            a = random.randint(0,len(recom_prod_new_3))\n",
    "            recom_prod_new_3.index = range(len(recom_prod_new_3))\n",
    "            gg = recom_prod_new_3.iloc[0:0]\n",
    "            return gg"
   ]
  }
 ],
 "metadata": {
  "kernelspec": {
   "display_name": "Python 3",
   "language": "python",
   "name": "python3"
  },
  "language_info": {
   "codemirror_mode": {
    "name": "ipython",
    "version": 3
   },
   "file_extension": ".py",
   "mimetype": "text/x-python",
   "name": "python",
   "nbconvert_exporter": "python",
   "pygments_lexer": "ipython3",
   "version": "3.7.4"
  }
 },
 "nbformat": 4,
 "nbformat_minor": 2
}
