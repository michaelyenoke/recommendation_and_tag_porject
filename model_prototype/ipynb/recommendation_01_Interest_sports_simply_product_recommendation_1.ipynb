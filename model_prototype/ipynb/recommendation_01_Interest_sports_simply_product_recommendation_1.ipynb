{
 "cells": [
  {
   "cell_type": "markdown",
   "metadata": {},
   "source": [
    "# Application "
   ]
  },
  {
   "cell_type": "code",
   "execution_count": null,
   "metadata": {},
   "outputs": [],
   "source": [
    "# please key-in any member id which claimed favorite sport\n",
    "potential_sport(-------)"
   ]
  },
  {
   "cell_type": "code",
   "execution_count": null,
   "metadata": {},
   "outputs": [],
   "source": [
    "# random loyalty card number _ 隨機選取有用的會員卡號\n",
    "ran_member = random.choice(member_declare_sport_result_df['loyalty_card_num'])\n",
    "print(\"The random loyalty card number is :\" +\" \"+ran_member)\n",
    "potential_sport(ran_member)"
   ]
  },
  {
   "cell_type": "markdown",
   "metadata": {},
   "source": [
    "------"
   ]
  },
  {
   "cell_type": "markdown",
   "metadata": {},
   "source": [
    "# Process"
   ]
  },
  {
   "cell_type": "code",
   "execution_count": 1,
   "metadata": {},
   "outputs": [],
   "source": [
    "import psycopg2\n",
    "import sys\n",
    "import os\n",
    "import time"
   ]
  },
  {
   "cell_type": "code",
   "execution_count": 3,
   "metadata": {},
   "outputs": [],
   "source": [
    "import pandas as pd \n",
    "from decimal import *\n",
    "import datetime"
   ]
  },
  {
   "cell_type": "code",
   "execution_count": 4,
   "metadata": {},
   "outputs": [],
   "source": [
    "import random"
   ]
  },
  {
   "cell_type": "code",
   "execution_count": 5,
   "metadata": {},
   "outputs": [],
   "source": [
    "def execute_query(query):\n",
    "    try:\n",
    "        conn = psycopg2.connect(dbname=DatabaseName, host=ClusterEndpoint, port=Port, user=UserName, password=Password)\n",
    "        cur = conn.cursor()\n",
    "        start = time.time()\n",
    "        cur.execute(query)\n",
    "        end = time.time()\n",
    "        print('Time Taken in Seconds : '+str(round(end - start)))\n",
    "        records = cur.fetchall()\n",
    "        cur.close()\n",
    "        conn.commit()\n",
    "    except Exception as e:\n",
    "       s = \"UNEXPECTED ERROR: \" + str(sys.exc_info())+\"\\n\"+str(e)+\"\\nError on line {}\".format(sys.exc_info()[-1].tb_lineno)\n",
    "       print(s)\n",
    "    finally:  \n",
    "       conn.close()\n",
    "    return records"
   ]
  },
  {
   "cell_type": "markdown",
   "metadata": {},
   "source": [
    "# Declare Sport"
   ]
  },
  {
   "cell_type": "code",
   "execution_count": 6,
   "metadata": {},
   "outputs": [
    {
     "name": "stdout",
     "output_type": "stream",
     "text": [
      "Time Taken in Seconds : 2\n"
     ]
    }
   ],
   "source": [
    "member_declare_sport = '''\n",
    "SELECT t1.loyalty_card_num,\n",
    "       t1.sport_id,\n",
    "       t1.sport_name_zh,\n",
    "       t1.sport_name_en,\n",
    "       t2.classificaiton_code\n",
    "FROM dtm_tw.tw_declare_sport AS t1\n",
    "left join dtm_tw.taiwan_cdp_sport_tag AS t2\n",
    "on t1.sport_id = t2.sport_id\n",
    "where t1.sport_id != 'None'\n",
    "group by 1,2,3,4,5\n",
    ";\n",
    " '''\n",
    "member_declare_sport_result = execute_query(member_declare_sport)\n",
    "member_declare_sport_result_df = pd.DataFrame(member_declare_sport_result)\n",
    "member_declare_sport_result_df.columns=['loyalty_card_num','sport_id','sport_name_zh','sport_name_en','classificaiton_code']"
   ]
  },
  {
   "cell_type": "code",
   "execution_count": 7,
   "metadata": {},
   "outputs": [],
   "source": [
    "def member_declare(member_id):\n",
    "    #print(query_result_df[query_result_df['loyalty_card_num'] == str(x)])\n",
    "    spid = (member_declare_sport_result_df[member_declare_sport_result_df['loyalty_card_num'] == str(member_id)])\n",
    "    #轉成list\n",
    "    spid_list = list(set(spid['sport_name_en']))\n",
    "    return spid_list"
   ]
  },
  {
   "cell_type": "markdown",
   "metadata": {},
   "source": [
    "# 會員的運動類型(隨機)"
   ]
  },
  {
   "cell_type": "code",
   "execution_count": 8,
   "metadata": {},
   "outputs": [],
   "source": [
    "def member_declare_type(member_id):\n",
    "       #print(query_result_df[query_result_df['loyalty_card_num'] == str(x)])\n",
    "    cfcode = (member_declare_sport_result_df[member_declare_sport_result_df['loyalty_card_num'] == str(member_id)])\n",
    "    cfcode_list = list(set(cfcode['classificaiton_code']))\n",
    "    cfcode_list_random = random.choice(cfcode_list)\n",
    "    cfcode_list_random_int = list(map(int,cfcode_list_random))\n",
    "    cfcode_list_random_int_num = cfcode_list_random_int[0]    \n",
    "    return cfcode_list_random_int_num"
   ]
  },
  {
   "cell_type": "code",
   "execution_count": 9,
   "metadata": {},
   "outputs": [],
   "source": [
    "def sport01():\n",
    "    sport01 = [['Camping',9295],['Hiking',9295],['Trekking',1335]]\n",
    "    sport01_random = random.choice(sport01)\n",
    "    #print(sport01_random)\n",
    "    return sport01_random\n",
    "    \n",
    "def sport02():    \n",
    "    sport02 = [['Jogging',9313],['Gym',9251],['Pilates',2191],['Cross Training',9251],['Training',2191],['Cardio',2191]]\n",
    "    sport02_random = random.choice(sport02)\n",
    "    #print(sport02_random)\n",
    "    return sport02_random\n",
    "\n",
    "def sport03():\n",
    "    sport03 = [['Basketball',1374],['Badmintion',1688]]\n",
    "    sport03_random = random.choice(sport03)\n",
    "    #print(sport03_random)\n",
    "    return sport03_random\n",
    "\n",
    "def sport04():   \n",
    "    sport04 = [['Swimming',8504],['Fishing',14515],['Biking',20153],['Dart',1525],['Walking',9366]]\n",
    "    sport04_random = random.choice(sport04)\n",
    "    #print(sport04_random)\n",
    "    return sport04_random"
   ]
  },
  {
   "cell_type": "markdown",
   "metadata": {},
   "source": [
    "#  All product selection & recommendation"
   ]
  },
  {
   "cell_type": "code",
   "execution_count": 10,
   "metadata": {
    "scrolled": true
   },
   "outputs": [
    {
     "name": "stdout",
     "output_type": "stream",
     "text": [
      "Time Taken in Seconds : 0\n"
     ]
    }
   ],
   "source": [
    "sport_top_sale_by_brand= '''\n",
    "select *\n",
    "from dtm_tw.taiwan_cdp_tag_product_sport_type\n",
    "'''\n",
    "\n",
    "sport_top_sale_by_brand_result = execute_query(sport_top_sale_by_brand)\n",
    "sport_top_sale_by_brand_result_df = pd.DataFrame(sport_top_sale_by_brand_result)\n",
    "sport_top_sale_by_brand_result_df.columns=['count','brand_id','brand_name','model_code_r3','web_label','sport_type']"
   ]
  },
  {
   "cell_type": "code",
   "execution_count": 11,
   "metadata": {},
   "outputs": [],
   "source": [
    "def prod_recom(bra_id):\n",
    "    a = random.randint(0,19)\n",
    "    b = random.randint(0,19)\n",
    "    product_recommendation_by_type = sport_top_sale_by_brand_result_df[sport_top_sale_by_brand_result_df['brand_id'] == str(bra_id)]\n",
    "    sport_type = product_recommendation_by_type['sport_type']\n",
    "    brand_id = product_recommendation_by_type['brand_id']\n",
    "    model_r3 = product_recommendation_by_type['model_code_r3']\n",
    "    web_label = product_recommendation_by_type['web_label']\n",
    "    product_recommendation_by_type_concat = pd.concat([sport_type,brand_id,model_r3,web_label], axis=1) \n",
    "    product_recommendation_by_type_concat.index = range(len(product_recommendation_by_type_concat))\n",
    "    product_recommendation_by_type_concat.columns=['','','','']\n",
    "    recom = product_recommendation_by_type_concat.loc[a:a+1]\n",
    "    print(\"The Product recommend to you is %s\" % (recom))"
   ]
  },
  {
   "cell_type": "markdown",
   "metadata": {},
   "source": [
    "# Sport & Product Recommendation"
   ]
  },
  {
   "cell_type": "code",
   "execution_count": 12,
   "metadata": {},
   "outputs": [],
   "source": [
    "def potential_sport(member_id) :\n",
    "    declare =  member_declare(member_id)\n",
    "    print(\"Your decalred sports :  %s\" % (declare))\n",
    "    member_type = member_declare_type(member_id)\n",
    "    if member_type == 1:\n",
    "        potential = sport04()\n",
    "        bra_id = potential[1]\n",
    "        print(\"The POTENTIAL random sport to recommend to you is %s\" % (potential[0]) )\n",
    "        prod_recom(bra_id)\n",
    "    elif member_type == 2:\n",
    "        potential = sport02()\n",
    "        bra_id = potential[1]\n",
    "        print(\"The POTENTIAL random sport to recommend to you is %s\" % (potential[0]) )\n",
    "        prod_recom(bra_id)\n",
    "    elif member_type == 3:\n",
    "        potential = sport02()\n",
    "        bra_id = potential[1]\n",
    "        print(\"The POTENTIAL random sport to recommend to you is %s\" % (potential[0]) )\n",
    "        prod_recom(bra_id) \n",
    "    elif member_type == 4:\n",
    "        potential = sport01()\n",
    "        bra_id = potential[1]\n",
    "        print(\"The POTENTIAL random sport to recommend to you is %s\" %  (potential[0]) )\n",
    "        prod_recom(bra_id)\n",
    "    else:\n",
    "        potential = sport04()\n",
    "        bra_id = potential[1]\n",
    "        print(\"The POTENTIAL random sport to recommend to you is %s\" %  (potential[0]) )\n",
    "        prod_recom(bra_id)"
   ]
  }
 ],
 "metadata": {
  "kernelspec": {
   "display_name": "Python 3",
   "language": "python",
   "name": "python3"
  },
  "language_info": {
   "codemirror_mode": {
    "name": "ipython",
    "version": 3
   },
   "file_extension": ".py",
   "mimetype": "text/x-python",
   "name": "python",
   "nbconvert_exporter": "python",
   "pygments_lexer": "ipython3",
   "version": "3.7.4"
  }
 },
 "nbformat": 4,
 "nbformat_minor": 2
}
