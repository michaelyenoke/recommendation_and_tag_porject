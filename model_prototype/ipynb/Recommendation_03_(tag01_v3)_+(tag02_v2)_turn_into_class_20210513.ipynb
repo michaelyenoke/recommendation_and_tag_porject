{
 "cells": [
  {
   "cell_type": "markdown",
   "metadata": {},
   "source": [
    "# Application "
   ]
  },
  {
   "cell_type": "code",
   "execution_count": null,
   "metadata": {},
   "outputs": [],
   "source": [
    "recommendation_final(memeber_id)"
   ]
  },
  {
   "cell_type": "markdown",
   "metadata": {},
   "source": [
    "------"
   ]
  },
  {
   "cell_type": "markdown",
   "metadata": {},
   "source": [
    "# Process"
   ]
  },
  {
   "cell_type": "code",
   "execution_count": 1,
   "metadata": {},
   "outputs": [],
   "source": [
    "import psycopg2\n",
    "import sys\n",
    "import os\n",
    "import time"
   ]
  },
  {
   "cell_type": "code",
   "execution_count": 2,
   "metadata": {},
   "outputs": [],
   "source": [
    "import pandas as pd \n",
    "from decimal import *\n",
    "import datetime"
   ]
  },
  {
   "cell_type": "code",
   "execution_count": 3,
   "metadata": {},
   "outputs": [],
   "source": [
    "import random"
   ]
  },
  {
   "cell_type": "code",
   "execution_count": 5,
   "metadata": {},
   "outputs": [],
   "source": [
    "def execute_query(query):\n",
    "    try:\n",
    "        conn = psycopg2.connect(dbname=DatabaseName, host=ClusterEndpoint, port=Port, user=UserName, password=Password)\n",
    "        cur = conn.cursor()\n",
    "        start = time.time()\n",
    "        cur.execute(query)\n",
    "        end = time.time()\n",
    "        print('Time Taken in Seconds : '+str(round(end - start)))\n",
    "        records = cur.fetchall()\n",
    "        cur.close()\n",
    "        conn.commit()\n",
    "    except Exception as e:\n",
    "        s = \"UNEXPECTED ERROR: \" + str(sys.exc_info())+\"\\n\"+str(e)+\"\\nError on line {}\".format(sys.exc_info()[-1].tb_lineno)\n",
    "        print(s)\n",
    "    finally:  \n",
    "        conn.close()\n",
    "    return records"
   ]
  },
  {
   "cell_type": "markdown",
   "metadata": {},
   "source": [
    "------"
   ]
  },
  {
   "cell_type": "markdown",
   "metadata": {},
   "source": [
    "# Queries"
   ]
  },
  {
   "cell_type": "code",
   "execution_count": 6,
   "metadata": {},
   "outputs": [],
   "source": [
    "class all_the_query_works:\n",
    "    def __init__(self):\n",
    "        pass\n",
    "\n",
    "    def query_for_member_declare_sport(self):\n",
    "        member_declare_sport = '''\n",
    "        SELECT t1.loyalty_card_num,\n",
    "            t1.sport_id,\n",
    "            t1.sport_name_zh,\n",
    "            t1.sport_name_en,\n",
    "            t2.classificaiton_code\n",
    "        FROM dtm_tw.tw_declare_sport AS t1\n",
    "        left join dtm_tw.taiwan_cdp_sport_tag AS t2\n",
    "        on t1.sport_id = t2.sport_id\n",
    "        where t1.sport_id != 'None'\n",
    "        group by 1,2,3,4,5\n",
    "        ;\n",
    "        '''\n",
    "        member_declare_sport_result = execute_query(member_declare_sport)\n",
    "        member_declare_sport_result_df = pd.DataFrame(member_declare_sport_result)\n",
    "        member_declare_sport_result_df.columns=['loyalty_card_num','sport_id','sport_name_zh','sport_name_en','classificaiton_code']\n",
    "        return member_declare_sport_result_df\n",
    "    "
   ]
  },
  {
   "cell_type": "code",
   "execution_count": 7,
   "metadata": {},
   "outputs": [],
   "source": [
    "class all_the_query_works_2:\n",
    "    def __init__(self):\n",
    "        pass\n",
    "\n",
    "    def query_for_prod_recom_by_sport_id(self):\n",
    "        sport_top_sale_by_brand= '''\n",
    "        select *\n",
    "        from dtm_tw.taiwan_cdp_tag_product_sport_type\n",
    "        '''\n",
    "        sport_top_sale_by_brand_result = execute_query(sport_top_sale_by_brand)\n",
    "        sport_top_sale_by_brand_result_df = pd.DataFrame(sport_top_sale_by_brand_result)\n",
    "        sport_top_sale_by_brand_result_df.columns=['count','brand_id','brand_name','model_code_r3','web_label','sport_type']\n",
    "        return sport_top_sale_by_brand_result_df"
   ]
  },
  {
   "cell_type": "code",
   "execution_count": 8,
   "metadata": {},
   "outputs": [],
   "source": [
    "class all_the_query_works_3:\n",
    "    def __init__(self):\n",
    "        pass\n",
    "\n",
    "    def query_for_sport_id_model_r3(self):\n",
    "        sport_id_model_r3 = '''\n",
    "        SELECT distinct\n",
    "            model_code_r3,  \n",
    "            brand_id, \n",
    "            brand_name,\n",
    "            p_sell_start_week, \n",
    "            web_label,      \n",
    "            sports_id \n",
    "        FROM dtm_tw.taiwan_cdp_sport_id_model_r3\n",
    "        WHERE p_sell_start_week > 202100\n",
    "        ;\n",
    "        ''' \n",
    "        sport_id_model_r3_result = execute_query(sport_id_model_r3)\n",
    "        sport_id_model_r3_result_df = pd.DataFrame(sport_id_model_r3_result)\n",
    "        sport_id_model_r3_result_df.columns=['model_code_r3','brand_id','brand_nam','p_sell_start_week','web_label','sports_id']\n",
    "        return sport_id_model_r3_result_df"
   ]
  },
  {
   "cell_type": "markdown",
   "metadata": {},
   "source": [
    "# Recommendation 01"
   ]
  },
  {
   "cell_type": "code",
   "execution_count": 9,
   "metadata": {},
   "outputs": [
    {
     "name": "stdout",
     "output_type": "stream",
     "text": [
      "Time Taken in Seconds : 1\n"
     ]
    }
   ],
   "source": [
    "class  member_declare_and_tag_type:\n",
    "    global member_declare_sport_result_df_table\n",
    "    query_for_member_declare = all_the_query_works().query_for_member_declare_sport\n",
    "    member_declare_sport_result_df_table = query_for_member_declare()\n",
    "    \n",
    "    def __init__(self):\n",
    "        pass\n",
    "    \n",
    "    def member_declare(self,member_id):\n",
    "        spid = (member_declare_sport_result_df_table[member_declare_sport_result_df_table['loyalty_card_num'] == str(member_id)])\n",
    "        #轉成list\n",
    "        spid_list = list(set(spid['sport_name_en']))\n",
    "        return spid_list\n",
    "    \n",
    "\n",
    "    def member_declare_type(self,member_id):\n",
    "        cfcode = (member_declare_sport_result_df_table[member_declare_sport_result_df_table['loyalty_card_num'] == str(member_id)])\n",
    "        cfcode_list = list(set(cfcode['classificaiton_code']))\n",
    "        cfcode_list_random = random.choice(cfcode_list)\n",
    "        cfcode_list_random_int = list(map(int,cfcode_list_random))\n",
    "        cfcode_list_random_int_num = cfcode_list_random_int[0]    \n",
    "        return cfcode_list_random_int_num\n",
    "    "
   ]
  },
  {
   "cell_type": "code",
   "execution_count": 10,
   "metadata": {},
   "outputs": [
    {
     "name": "stdout",
     "output_type": "stream",
     "text": [
      "Time Taken in Seconds : 0\n"
     ]
    }
   ],
   "source": [
    "class sport_type_and_product_recommendation:\n",
    "    global prodcut_q_table\n",
    "    query_prod_rec = all_the_query_works_2().query_for_prod_recom_by_sport_id\n",
    "    prodcut_q_table = query_prod_rec()\n",
    "    global member_declare_type_2\n",
    "    global member_declare_2\n",
    "    member_declare_type_2 = member_declare_and_tag_type().member_declare_type\n",
    "    member_declare_2 = member_declare_and_tag_type().member_declare  \n",
    "    \n",
    "    \n",
    "    def __init__(self):\n",
    "        self.sport01 = [['Camping',9295],['Hiking',9295],['Trekking',1335]]\n",
    "        self.sport02 = [['Jogging',9313],['Gym',9251],['Pilates',2191],['Cross Training',9251],['Training',2191],['Cardio',2191]]\n",
    "        self.sport03 = [['Basketball',1374],['Badmintion',1688]]\n",
    "        self.sport04 = [['Swimming',8504],['Fishing',14515],['Biking',20153],['Dart',1525],['Walking',9366]]\n",
    "    \n",
    "    \n",
    "    def sport_random_by_claim(self,sport_num):\n",
    "         if sport_num == 1: \n",
    "            sport01_random = random.choice(self.sport01)\n",
    "            return sport01_random\n",
    "         elif sport_num == 2:\n",
    "            sport02_random = random.choice(self.sport02)\n",
    "            return sport02_random   \n",
    "         elif sport_num == 3:\n",
    "            sport03_random = random.choice(self.sport03)\n",
    "            return sport03_random   \n",
    "         elif sport_num == 4:\n",
    "            sport04_random = random.choice(self.sport04)\n",
    "            return sport04_random   \n",
    "        \n",
    "    \n",
    "    def prod_recom_by_sport_id(self,bra_id):\n",
    "        a = random.randint(0,19)\n",
    "        b = random.randint(0,19)\n",
    "        product_recommendation_by_type = prodcut_q_table[prodcut_q_table['brand_id'] == str(bra_id)]\n",
    "        sport_type = product_recommendation_by_type['sport_type']\n",
    "        brand_id = product_recommendation_by_type['brand_id']\n",
    "        model_r3 = product_recommendation_by_type['model_code_r3']\n",
    "        web_label = product_recommendation_by_type['web_label']\n",
    "        product_recommendation_by_type_concat = pd.concat([sport_type,brand_id,model_r3,web_label], axis=1) \n",
    "        product_recommendation_by_type_concat.index = range(len(product_recommendation_by_type_concat))\n",
    "        product_recommendation_by_type_concat.columns=['','','','']\n",
    "        recom = product_recommendation_by_type_concat.loc[a:a+1]\n",
    "        print(\"The Product recommend to you is %s\" % (recom))  \n",
    "\n",
    "        \n",
    "    # 根據宣稱下選擇一個隨機運動然後進行推薦    \n",
    "    def potential_sport_tag_and_recommendation(self,member_id) :\n",
    "        declare =  member_declare_2(member_id)\n",
    "        print(\"Your decalred sports :  %s\" % (declare))\n",
    "        sp_type=sport_type_and_product_recommendation()\n",
    "        member_type = member_declare_type_2(member_id)\n",
    "        if member_type == 1:\n",
    "            potential = sp_type.sport_random_by_claim(4)\n",
    "            bra_id = potential[1]\n",
    "            print(\"The POTENTIAL random sport to recommend to you is %s\" % (potential[0]) )\n",
    "            sp_type.prod_recom_by_sport_id(bra_id)\n",
    "        elif member_type == 2:\n",
    "            potential = sp_type.sport_random_by_claim(2)\n",
    "            bra_id = potential[1]\n",
    "            print(\"The POTENTIAL random sport to recommend to you is %s\" % (potential[0]) )\n",
    "            sp_type.prod_recom_by_sport_id(bra_id)\n",
    "        elif member_type == 3:\n",
    "            potential = sp_type.sport_random_by_claim(2)\n",
    "            bra_id = potential[1]\n",
    "            print(\"The POTENTIAL random sport to recommend to you is %s\" % (potential[0]) )\n",
    "            sp_type.prod_recom_by_sport_id(bra_id) \n",
    "        elif member_type == 4:\n",
    "            potential = sp_type.sport_random_by_claim(1)\n",
    "            bra_id = potential[1]\n",
    "            print(\"The POTENTIAL random sport to recommend to you is %s\" %  (potential[0]) )\n",
    "            sp_type.prod_recom_by_sport_id(bra_id)\n",
    "        else:\n",
    "            potential = sp_type.sport_random_by_claim(4)\n",
    "            bra_id = potential[1]\n",
    "            print(\"The POTENTIAL random sport to recommend to you is %s\" %  (potential[0]) )\n",
    "            sp_type.prod_recom_by_sport_id(bra_id)\n",
    "            "
   ]
  },
  {
   "cell_type": "markdown",
   "metadata": {},
   "source": [
    "# Recommendation 02"
   ]
  },
  {
   "cell_type": "code",
   "execution_count": 11,
   "metadata": {},
   "outputs": [],
   "source": [
    "from datetime import datetime\n",
    "import calendar"
   ]
  },
  {
   "cell_type": "code",
   "execution_count": 12,
   "metadata": {},
   "outputs": [
    {
     "name": "stdout",
     "output_type": "stream",
     "text": [
      "Time Taken in Seconds : 0\n"
     ]
    }
   ],
   "source": [
    "class recommendation_by_newest_product:\n",
    "    global member_declare_type_2\n",
    "    member_declare_type_2 = member_declare_and_tag_type().member_declare_type\n",
    "    global member_declare_2\n",
    "    member_declare_2 = member_declare_and_tag_type().member_declare\n",
    "    global sport_id_model_r3_result_df_table\n",
    "    sport_id_model_r3_result_df_funciton = all_the_query_works_3().query_for_sport_id_model_r3\n",
    "    sport_id_model_r3_result_df_table = sport_id_model_r3_result_df_funciton()\n",
    "    \n",
    "    def __init__(self):\n",
    "        pass\n",
    "    \n",
    "    \n",
    "    def member_declare_random_sport(self,member_id):\n",
    "        spid = (member_declare_sport_result_df_table[member_declare_sport_result_df_table['loyalty_card_num'] == str(member_id)])\n",
    "        one_random_sport = list(set(spid['sport_id']))\n",
    "        one_random_sport_result = random.choice(one_random_sport)\n",
    "        return one_random_sport_result\n",
    "    \n",
    "\n",
    "    def week_num(self):\n",
    "        cal = datetime.today().isocalendar() \n",
    "        strcal = str(cal[0])+str(cal[1]) \n",
    "        return strcal \n",
    "    \n",
    "    \n",
    "\n",
    "    def recom_prod_new_2(self,member_id):\n",
    "        one_random_sport_result = recommendation_by_newest_product().member_declare_random_sport\n",
    "        this_week_num = recommendation_by_newest_product().week_num\n",
    "        strcal = this_week_num()\n",
    "        recom_prod_new = sport_id_model_r3_result_df_table.loc[(sport_id_model_r3_result_df_table['sports_id'] == one_random_sport_result) & (sport_id_model_r3_result_df_table['p_sell_start_week'] <= strcal)]\n",
    "        if recom_prod_new.empty:\n",
    "            return recom_prod_new\n",
    "        else:\n",
    "            uu = max(recom_prod_new['p_sell_start_week'])\n",
    "            recom_prod_new_2 = sport_id_model_r3_result_df_table.loc[(sport_id_model_r3_result_df_table['sports_id'] == one_random_sport_result) & (sport_id_model_r3_result_df_table['p_sell_start_week'] == uu)]\n",
    "            return recom_prod_new_2\n",
    "\n",
    "    def new_prod_recommendation(self,member_id): \n",
    "        recom_prod = recommendation_by_newest_product().recom_prod_new_2\n",
    "        recom_prod_new_3 = recom_prod(member_id)\n",
    "        if recom_prod_new_3.empty:\n",
    "            print('No New Products')\n",
    "        else:\n",
    "            recom_prod_new_3 = recom_prod(member_id)\n",
    "            if len(recom_prod_new_3) != 1 :\n",
    "                a = random.randint(0,len(recom_prod_new_3))\n",
    "                recom_prod_new_3.index = range(len(recom_prod_new_3))\n",
    "                yy = recom_prod_new_3.iloc[a:a+3]\n",
    "                return yy\n",
    "            elif len(recom_prod_new_3) == 1:\n",
    "                a = random.randint(0,len(recom_prod_new_3))\n",
    "                recom_prod_new_3.index = range(len(recom_prod_new_3))\n",
    "                kk = recom_prod_new_3.iloc[0:1]\n",
    "                return kk\n",
    "            elif len(recom_prod_new_3) == 0:\n",
    "                a = random.randint(0,len(recom_prod_new_3))\n",
    "                recom_prod_new_3.index = range(len(recom_prod_new_3))\n",
    "                gg = recom_prod_new_3.iloc[0:0]\n",
    "                return gg"
   ]
  },
  {
   "cell_type": "markdown",
   "metadata": {},
   "source": [
    "# __name__ == \"__main__\""
   ]
  },
  {
   "cell_type": "code",
   "execution_count": 13,
   "metadata": {},
   "outputs": [],
   "source": [
    "if __name__ == \"__main__\":\n",
    "    def recommendation_final(member_id):\n",
    "        recom_result = sport_type_and_product_recommendation() # Recommendation 01\n",
    "        p1 = recom_result.potential_sport_tag_and_recommendation(member_id)\n",
    "        recom_newest=recommendation_by_newest_product() # Recommendation 02\n",
    "        p2 = recom_newest.new_prod_recommendation(member_id)    \n",
    "        print(p1)\n",
    "        print('@ the newest product to recommend to you:')\n",
    "        print(p2)"
   ]
  }
 ],
 "metadata": {
  "kernelspec": {
   "display_name": "Python 3",
   "language": "python",
   "name": "python3"
  },
  "language_info": {
   "codemirror_mode": {
    "name": "ipython",
    "version": 3
   },
   "file_extension": ".py",
   "mimetype": "text/x-python",
   "name": "python",
   "nbconvert_exporter": "python",
   "pygments_lexer": "ipython3",
   "version": "3.7.4"
  }
 },
 "nbformat": 4,
 "nbformat_minor": 2
}
