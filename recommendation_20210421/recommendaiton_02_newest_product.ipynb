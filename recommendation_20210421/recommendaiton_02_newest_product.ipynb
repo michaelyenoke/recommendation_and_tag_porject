{
 "cells": [
  {
   "cell_type": "markdown",
   "metadata": {},
   "source": [
    "# Application"
   ]
  },
  {
   "cell_type": "code",
   "execution_count": 22,
   "metadata": {},
   "outputs": [
    {
     "data": {
      "text/html": [
       "<div>\n",
       "<style scoped>\n",
       "    .dataframe tbody tr th:only-of-type {\n",
       "        vertical-align: middle;\n",
       "    }\n",
       "\n",
       "    .dataframe tbody tr th {\n",
       "        vertical-align: top;\n",
       "    }\n",
       "\n",
       "    .dataframe thead th {\n",
       "        text-align: right;\n",
       "    }\n",
       "</style>\n",
       "<table border=\"1\" class=\"dataframe\">\n",
       "  <thead>\n",
       "    <tr style=\"text-align: right;\">\n",
       "      <th></th>\n",
       "      <th>model_code_r3</th>\n",
       "      <th>brand_id</th>\n",
       "      <th>brand_nam</th>\n",
       "      <th>p_sell_start_week</th>\n",
       "      <th>web_label</th>\n",
       "      <th>sports_id</th>\n",
       "    </tr>\n",
       "  </thead>\n",
       "  <tbody>\n",
       "    <tr>\n",
       "      <th>4</th>\n",
       "      <td>8647815</td>\n",
       "      <td>9313</td>\n",
       "      <td>KALENJI</td>\n",
       "      <td>202107</td>\n",
       "      <td>兒童款短袖透氣跑步T恤AT 300 - 白色</td>\n",
       "      <td>389</td>\n",
       "    </tr>\n",
       "    <tr>\n",
       "      <th>5</th>\n",
       "      <td>8553975</td>\n",
       "      <td>9313</td>\n",
       "      <td>KALENJI</td>\n",
       "      <td>202107</td>\n",
       "      <td>兒童款田徑緊身褲Kalenji AT100 - 海軍藍</td>\n",
       "      <td>389</td>\n",
       "    </tr>\n",
       "    <tr>\n",
       "      <th>6</th>\n",
       "      <td>8588563</td>\n",
       "      <td>9313</td>\n",
       "      <td>KALENJI</td>\n",
       "      <td>202107</td>\n",
       "      <td>兒童款保暖田徑半拉鍊長袖運動衫AT 100 - 海軍藍</td>\n",
       "      <td>389</td>\n",
       "    </tr>\n",
       "  </tbody>\n",
       "</table>\n",
       "</div>"
      ],
      "text/plain": [
       "   model_code_r3  brand_id brand_nam p_sell_start_week  \\\n",
       "4        8647815      9313   KALENJI            202107   \n",
       "5        8553975      9313   KALENJI            202107   \n",
       "6        8588563      9313   KALENJI            202107   \n",
       "\n",
       "                     web_label sports_id  \n",
       "4       兒童款短袖透氣跑步T恤AT 300 - 白色       389  \n",
       "5  兒童款田徑緊身褲Kalenji AT100 - 海軍藍       389  \n",
       "6  兒童款保暖田徑半拉鍊長袖運動衫AT 100 - 海軍藍       389  "
      ]
     },
     "execution_count": 22,
     "metadata": {},
     "output_type": "execute_result"
    }
   ],
   "source": [
    " new_prod_recommendation(2091200208332)"
   ]
  },
  {
   "cell_type": "code",
   "execution_count": 24,
   "metadata": {},
   "outputs": [
    {
     "name": "stdout",
     "output_type": "stream",
     "text": [
      "The random loyalty card number is : 2090537715742\n"
     ]
    },
    {
     "data": {
      "text/html": [
       "<div>\n",
       "<style scoped>\n",
       "    .dataframe tbody tr th:only-of-type {\n",
       "        vertical-align: middle;\n",
       "    }\n",
       "\n",
       "    .dataframe tbody tr th {\n",
       "        vertical-align: top;\n",
       "    }\n",
       "\n",
       "    .dataframe thead th {\n",
       "        text-align: right;\n",
       "    }\n",
       "</style>\n",
       "<table border=\"1\" class=\"dataframe\">\n",
       "  <thead>\n",
       "    <tr style=\"text-align: right;\">\n",
       "      <th></th>\n",
       "      <th>model_code_r3</th>\n",
       "      <th>brand_id</th>\n",
       "      <th>brand_nam</th>\n",
       "      <th>p_sell_start_week</th>\n",
       "      <th>web_label</th>\n",
       "      <th>sports_id</th>\n",
       "    </tr>\n",
       "  </thead>\n",
       "  <tbody>\n",
       "    <tr>\n",
       "      <th>3</th>\n",
       "      <td>8500018</td>\n",
       "      <td>1693</td>\n",
       "      <td>VAN RYSEL</td>\n",
       "      <td>202105</td>\n",
       "      <td>公路車安全帽RoadR 500 - 黑色</td>\n",
       "      <td>282</td>\n",
       "    </tr>\n",
       "    <tr>\n",
       "      <th>4</th>\n",
       "      <td>8552373</td>\n",
       "      <td>1693</td>\n",
       "      <td>VAN RYSEL</td>\n",
       "      <td>202105</td>\n",
       "      <td>公路車鞋RCR520 Carbon - 紅色</td>\n",
       "      <td>282</td>\n",
       "    </tr>\n",
       "    <tr>\n",
       "      <th>5</th>\n",
       "      <td>8615871</td>\n",
       "      <td>1693</td>\n",
       "      <td>VAN RYSEL</td>\n",
       "      <td>202105</td>\n",
       "      <td>自行車安全帽Racer - 白色</td>\n",
       "      <td>282</td>\n",
       "    </tr>\n",
       "  </tbody>\n",
       "</table>\n",
       "</div>"
      ],
      "text/plain": [
       "   model_code_r3  brand_id  brand_nam p_sell_start_week  \\\n",
       "3        8500018      1693  VAN RYSEL            202105   \n",
       "4        8552373      1693  VAN RYSEL            202105   \n",
       "5        8615871      1693  VAN RYSEL            202105   \n",
       "\n",
       "                web_label sports_id  \n",
       "3    公路車安全帽RoadR 500 - 黑色       282  \n",
       "4  公路車鞋RCR520 Carbon - 紅色       282  \n",
       "5        自行車安全帽Racer - 白色       282  "
      ]
     },
     "execution_count": 24,
     "metadata": {},
     "output_type": "execute_result"
    }
   ],
   "source": [
    "# random loyalty card number _ 隨機選取有用的會員卡號\n",
    "ran_member = random.choice(member_declare_sport_result_df['loyalty_card_num'])\n",
    "print(\"The random loyalty card number is :\" +\" \"+ran_member)\n",
    "new_prod_recommendation(ran_member)"
   ]
  },
  {
   "cell_type": "markdown",
   "metadata": {},
   "source": [
    "# Process"
   ]
  },
  {
   "cell_type": "code",
   "execution_count": 1,
   "metadata": {},
   "outputs": [],
   "source": [
    "import psycopg2\n",
    "import sys\n",
    "import os\n",
    "import time"
   ]
  },
  {
   "cell_type": "code",
   "execution_count": 2,
   "metadata": {},
   "outputs": [],
   "source": [
    "ClusterEndpoint = \"prdredshift03.c8yxpd5oejlf.eu-west-1.redshift.amazonaws.com\"\n",
    "Port = 5539\n",
    "DatabaseName = \"dvdbredshift02\"\n",
    "UserName = \"mchen\"\n",
    "Password = \"GTI803a6f4\""
   ]
  },
  {
   "cell_type": "code",
   "execution_count": 3,
   "metadata": {},
   "outputs": [],
   "source": [
    "import pandas as pd \n",
    "from decimal import *\n",
    "import datetime\n",
    "import random"
   ]
  },
  {
   "cell_type": "code",
   "execution_count": 4,
   "metadata": {},
   "outputs": [],
   "source": [
    "# 執行 query 的 function\n",
    "def execute_query(query):\n",
    "    try:\n",
    "        conn = psycopg2.connect(dbname=DatabaseName, host=ClusterEndpoint, port=Port, user=UserName, password=Password)\n",
    "        cur = conn.cursor()\n",
    "        start = time.time()\n",
    "        cur.execute(query)\n",
    "        end = time.time()\n",
    "        print('Time Taken in Seconds : '+str(round(end - start)))\n",
    "        records = cur.fetchall()\n",
    "        cur.close()\n",
    "        conn.commit()\n",
    "    except Exception as e:\n",
    "       s = \"UNEXPECTED ERROR: \" + str(sys.exc_info())+\"\\n\"+str(e)+\"\\nError on line {}\".format(sys.exc_info()[-1].tb_lineno)\n",
    "       print(s)\n",
    "    finally:  \n",
    "       conn.close()\n",
    "    return records"
   ]
  },
  {
   "cell_type": "code",
   "execution_count": 5,
   "metadata": {},
   "outputs": [],
   "source": [
    "# 之後 table 要改成 VIEW"
   ]
  },
  {
   "cell_type": "markdown",
   "metadata": {},
   "source": [
    "# Declare Sport"
   ]
  },
  {
   "cell_type": "code",
   "execution_count": 6,
   "metadata": {},
   "outputs": [
    {
     "name": "stdout",
     "output_type": "stream",
     "text": [
      "Time Taken in Seconds : 1\n"
     ]
    }
   ],
   "source": [
    "# Declare Sport\n",
    "member_declare_sport = '''\n",
    "SELECT t1.loyalty_card_num,\n",
    "       t1.sport_id,\n",
    "       t1.sport_name_zh,\n",
    "       t1.sport_name_en,\n",
    "       t2.classificaiton_code\n",
    "FROM dtm_tw.tw_declare_sport AS t1\n",
    "left join dtm_tw.taiwan_cdp_sport_tag AS t2\n",
    "on t1.sport_id = t2.sport_id\n",
    "where t1.sport_id != 'None'\n",
    "group by 1,2,3,4,5\n",
    ";\n",
    " '''\n",
    "# Execut_SQL_Code_01\n",
    "member_declare_sport_result = execute_query(member_declare_sport)\n",
    "member_declare_sport_result_df = pd.DataFrame(member_declare_sport_result)\n",
    "member_declare_sport_result_df.columns=['loyalty_card_num','sport_id','sport_name_zh','sport_name_en','classificaiton_code']\n",
    "#print(member_declare_sport_result_df)"
   ]
  },
  {
   "cell_type": "code",
   "execution_count": 7,
   "metadata": {},
   "outputs": [],
   "source": [
    "# 你宣稱的運動_輸入你的會員就會出現你宣稱的運動_用在輸出總結果的時候看你宣稱的運動\n",
    "# 這裡改成 sport_id\n",
    "\n",
    "def member_declare_random_sport(member_id):\n",
    "    #print(query_result_df[query_result_df['loyalty_card_num'] == str(x)])\n",
    "    spid = (member_declare_sport_result_df[member_declare_sport_result_df['loyalty_card_num'] == str(member_id)])\n",
    "    #轉成list\n",
    "    one_random_sport = list(set(spid['sport_id']))\n",
    "    #print(one_random_sport)\n",
    "    one_random_sport_result = random.choice(one_random_sport)\n",
    "    return one_random_sport_result"
   ]
  },
  {
   "cell_type": "code",
   "execution_count": 8,
   "metadata": {},
   "outputs": [],
   "source": [
    "#one_random_sport_result = member_declare_random_sport(2092202984569)\n",
    "#print(one_random_sport_result)"
   ]
  },
  {
   "cell_type": "markdown",
   "metadata": {},
   "source": [
    "# Use the created  table for sport_id & model_code_r3 & p_sell_start_week"
   ]
  },
  {
   "cell_type": "code",
   "execution_count": 9,
   "metadata": {},
   "outputs": [
    {
     "name": "stdout",
     "output_type": "stream",
     "text": [
      "Time Taken in Seconds : 0\n"
     ]
    }
   ],
   "source": [
    "sport_id_model_r3 = '''\n",
    "SELECT distinct\n",
    "    model_code_r3,  \n",
    "    brand_id, \n",
    "    brand_name,\n",
    "    p_sell_start_week, \n",
    "    web_label,      \n",
    "    sports_id \n",
    "FROM dtm_tw.taiwan_cdp_sport_id_model_r3\n",
    "WHERE p_sell_start_week > 202100\n",
    " ;\n",
    " ''' \n",
    "\n",
    "sport_id_model_r3_result = execute_query(sport_id_model_r3)\n",
    "sport_id_model_r3_result_df = pd.DataFrame(sport_id_model_r3_result)\n",
    "sport_id_model_r3_result_df.columns=['model_code_r3','brand_id','brand_nam','p_sell_start_week','web_label','sports_id']\n",
    "#print(sport_id_model_r3_result_df)"
   ]
  },
  {
   "cell_type": "markdown",
   "metadata": {},
   "source": [
    "# Capture the Week Num"
   ]
  },
  {
   "cell_type": "code",
   "execution_count": 10,
   "metadata": {},
   "outputs": [],
   "source": [
    "from datetime import datetime\n",
    "import calendar"
   ]
  },
  {
   "cell_type": "code",
   "execution_count": 11,
   "metadata": {},
   "outputs": [],
   "source": [
    "def week_num():\n",
    "    cal = datetime.today().isocalendar() # 年,第幾週,第幾天\n",
    "    strcal = str(cal[0])+str(cal[1]) # 合併字串\n",
    "    return strcal # 本週週數"
   ]
  },
  {
   "cell_type": "code",
   "execution_count": 12,
   "metadata": {},
   "outputs": [],
   "source": [
    "# strcal = week_num()\n",
    "# print(type(strcal)) # <class 'str'>\n",
    "# print(strcal)"
   ]
  },
  {
   "cell_type": "markdown",
   "metadata": {},
   "source": [
    "# Select New Product Table"
   ]
  },
  {
   "cell_type": "code",
   "execution_count": 13,
   "metadata": {},
   "outputs": [],
   "source": [
    "# 用來看 sport_id 和 p_sell_start_week\n",
    "# sport_id_model_r3_result_df"
   ]
  },
  {
   "cell_type": "markdown",
   "metadata": {},
   "source": [
    "# Select Newest Product by sport_id & week_num_this_week"
   ]
  },
  {
   "cell_type": "code",
   "execution_count": 14,
   "metadata": {},
   "outputs": [],
   "source": [
    "# 改用sport_id_model_r3 來決定產品的開始日期 p_sell_start_week\n",
    "# 用 MEMBER 宣稱的運動來選　sport_id & 使用 本週週數來決定最新的產品, 都透過 sport_id_model_r3 來處理\n",
    "\n",
    "\n",
    "def recom_prod_new_2(member_id):\n",
    "    # 使用者宣稱的運動\n",
    "    one_random_sport_result = member_declare_random_sport(member_id)\n",
    "    # 計算本週週數\n",
    "    strcal = week_num()\n",
    "    ##\n",
    "    # 第一步篩選本週以及小於本週的週數 (<= strcal)\n",
    "    recom_prod_new = sport_id_model_r3_result_df.loc[(sport_id_model_r3_result_df['sports_id'] == one_random_sport_result) & (sport_id_model_r3_result_df['p_sell_start_week'] <= strcal)]\n",
    "    # print(type(recom_prod_new)) <class 'pandas.core.frame.DataFrame'>\n",
    "    # print(recom_prod_new)\n",
    "    # print(len(recom_prod_new)) # 查看推薦數量有多少\n",
    "    #　第二步篩選週數最大的（最新的）\n",
    "    if recom_prod_new.empty:\n",
    "        return recom_prod_new\n",
    "    else:\n",
    "        uu = max(recom_prod_new['p_sell_start_week'])\n",
    "        # 第三步將最大的值直接作為篩選的值\n",
    "        recom_prod_new_2 = sport_id_model_r3_result_df.loc[(sport_id_model_r3_result_df['sports_id'] == one_random_sport_result) & (sport_id_model_r3_result_df['p_sell_start_week'] == uu)]\n",
    "        # 直接推薦最近的一週 + MEMBER所宣稱的SPORT ID\n",
    "        return recom_prod_new_2\n",
    "\n",
    "#####################################################################################################################################################################################\n",
    "\n",
    "## example\n",
    "# recom_prod_new =  sport_id_model_r3_result_df.loc[(sport_id_model_r3_result_df['sports_id'] == '134') & (sport_id_model_r3_result_df['p_sell_start_week'] == '202104')]\n",
    "\n",
    "## seperate workable\n",
    "#sport_id_model_r3_result_df.loc[sport_id_model_r3_result_df['sports_id'] == one_random_sport_result]\n",
    "#sport_id_model_r3_result_df.loc[sport_id_model_r3_result_df['p_sell_start_week'] == strcal]"
   ]
  },
  {
   "cell_type": "markdown",
   "metadata": {},
   "source": [
    " # Random Recommend "
   ]
  },
  {
   "cell_type": "code",
   "execution_count": 15,
   "metadata": {},
   "outputs": [],
   "source": [
    "def new_prod_recommendation(member_id):\n",
    "    recom_prod_new_3 = recom_prod_new_2(member_id)\n",
    "    if recom_prod_new_3.empty:\n",
    "        print('No New Products')\n",
    "    else:\n",
    "        recom_prod_new_3 = recom_prod_new_2(member_id)\n",
    "        if len(recom_prod_new_3) != 1 :\n",
    "            a = random.randint(0,len(recom_prod_new_3))\n",
    "            #print(a)\n",
    "            #重新編排欄位\n",
    "            recom_prod_new_3.index = range(len(recom_prod_new_3))\n",
    "            #print(recom_prod_new_3)\n",
    "            #推薦商品\n",
    "            yy = recom_prod_new_3.iloc[a:a+3]\n",
    "            return yy\n",
    "        elif len(recom_prod_new_3) == 1:\n",
    "            a = random.randint(0,len(recom_prod_new_3))\n",
    "            #print(a)\n",
    "            #重新編排欄位\n",
    "            recom_prod_new_3.index = range(len(recom_prod_new_3))\n",
    "            #print(recom_prod_new_3)\n",
    "            #推薦商品\n",
    "            kk = recom_prod_new_3.iloc[0:1]\n",
    "            return kk\n",
    "        elif len(recom_prod_new_3) == 0:\n",
    "            a = random.randint(0,len(recom_prod_new_3))\n",
    "            #print(a)\n",
    "            #重新編排欄位\n",
    "            recom_prod_new_3.index = range(len(recom_prod_new_3))\n",
    "            #print(recom_prod_new_3)\n",
    "            #推薦商品\n",
    "            gg = recom_prod_new_3.iloc[0:0]\n",
    "            return gg"
   ]
  },
  {
   "cell_type": "markdown",
   "metadata": {},
   "source": [
    "-----"
   ]
  },
  {
   "cell_type": "raw",
   "metadata": {},
   "source": [
    "可用的table\n",
    "\n",
    "## Sheet ##\n",
    "\n",
    "# spi_cattalog\n",
    "https://docs.google.com/spreadsheets/d/1Dz6AH3b7IUaane1ujMNtxo5eabGlGqUuzzObccGCL8A/edit#gid=0\n",
    "\n",
    "# spi_sport_tree\n",
    "https://docs.google.com/spreadsheets/d/1Dz6AH3b7IUaane1ujMNtxo5eabGlGqUuzzObccGCL8A/edit#gid=724138800\n",
    "\n",
    "\n",
    "\n",
    "## Slider ##\n",
    "\n",
    "# ods.spi_sport_tree\n",
    "https://docs.google.com/presentation/d/1uosPi73c3G7tTXE0TOlQCRK9iukn4kS7y_jChKRDUfQ/edit#slide=id.g33648363b6_6_27"
   ]
  }
 ],
 "metadata": {
  "kernelspec": {
   "display_name": "Python 3",
   "language": "python",
   "name": "python3"
  },
  "language_info": {
   "codemirror_mode": {
    "name": "ipython",
    "version": 3
   },
   "file_extension": ".py",
   "mimetype": "text/x-python",
   "name": "python",
   "nbconvert_exporter": "python",
   "pygments_lexer": "ipython3",
   "version": "3.7.4"
  }
 },
 "nbformat": 4,
 "nbformat_minor": 2
}
